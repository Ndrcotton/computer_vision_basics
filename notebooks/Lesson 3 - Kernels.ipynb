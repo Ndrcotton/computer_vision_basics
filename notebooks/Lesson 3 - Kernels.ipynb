{
 "cells": [
  {
   "cell_type": "code",
   "execution_count": null,
   "metadata": {},
   "outputs": [],
   "source": [
    "import cv2\n",
    "import matplotlib.pyplot as plt\n",
    "%matplotlib inline"
   ]
  },
  {
   "cell_type": "markdown",
   "metadata": {},
   "source": [
    "## Loading and Saving Images"
   ]
  },
  {
   "cell_type": "code",
   "execution_count": null,
   "metadata": {},
   "outputs": [],
   "source": [
    "image = cv2.imread('../img/coding.jpg')\n",
    "image.shape"
   ]
  },
  {
   "cell_type": "code",
   "execution_count": null,
   "metadata": {},
   "outputs": [],
   "source": [
    "def show_image(image, cmap = None, fig_size = (10, 10)):\n",
    "    fig, ax = plt.subplots(figsize=fig_size)\n",
    "    ax.imshow(image, cmap = cmap)\n",
    "    ax.axis('off')\n",
    "    plt.show()"
   ]
  },
  {
   "cell_type": "code",
   "execution_count": null,
   "metadata": {},
   "outputs": [],
   "source": [
    "show_image(image)"
   ]
  },
  {
   "cell_type": "code",
   "execution_count": null,
   "metadata": {},
   "outputs": [],
   "source": [
    "image[10:50, 100:140] = [255, 255, 255]\n",
    "show_image(image)"
   ]
  },
  {
   "cell_type": "code",
   "execution_count": null,
   "metadata": {},
   "outputs": [],
   "source": [
    "cv2.imwrite('edited.png', image)"
   ]
  },
  {
   "cell_type": "markdown",
   "metadata": {},
   "source": [
    "## Colour Channels"
   ]
  },
  {
   "cell_type": "code",
   "execution_count": null,
   "metadata": {},
   "outputs": [],
   "source": [
    "lego_matpotlib = plt.imread('../img/lego.jpg')"
   ]
  },
  {
   "cell_type": "code",
   "execution_count": null,
   "metadata": {},
   "outputs": [],
   "source": [
    "show_image(lego_matpotlib)"
   ]
  },
  {
   "cell_type": "code",
   "execution_count": null,
   "metadata": {},
   "outputs": [],
   "source": [
    "lego_cv2 = cv2.imread('../img/lego.jpg')\n",
    "show_image(lego_cv2)"
   ]
  },
  {
   "cell_type": "code",
   "execution_count": null,
   "metadata": {},
   "outputs": [],
   "source": [
    "show_image(np.flip(lego_cv2, axis = 2))"
   ]
  },
  {
   "cell_type": "markdown",
   "metadata": {},
   "source": [
    "### Splitting colour channels to render with matplotlib "
   ]
  },
  {
   "cell_type": "code",
   "execution_count": null,
   "metadata": {},
   "outputs": [],
   "source": [
    "channels_matplotlib = [lego_matpotlib[:, : , i] for i in range(3)]\n",
    "names = ['Red', 'Green', 'Blue']\n",
    "for name, channel in zip(names, channels_matplotlib):\n",
    "    print(name)\n",
    "    show_image(channel, cmap='gray')"
   ]
  },
  {
   "cell_type": "markdown",
   "metadata": {},
   "source": [
    "### Splitting colour channels to render with CV2 "
   ]
  },
  {
   "cell_type": "code",
   "execution_count": null,
   "metadata": {},
   "outputs": [],
   "source": [
    "cv2.imshow('Original', lego_cv2)\n",
    "channels_cv2 = cv2.split(lego_cv2)\n",
    "\n",
    "names = ['Blue', 'Green', 'Red']\n",
    "for name, channel in zip(names, channels_cv2):\n",
    "    cv2.imshow(name, channel)\n",
    "cv2.waitKey(0)"
   ]
  },
  {
   "cell_type": "markdown",
   "metadata": {},
   "source": [
    "## Flipping matrices with numpy"
   ]
  },
  {
   "cell_type": "code",
   "execution_count": null,
   "metadata": {},
   "outputs": [],
   "source": [
    "import numpy as np"
   ]
  },
  {
   "cell_type": "code",
   "execution_count": null,
   "metadata": {},
   "outputs": [],
   "source": [
    "x = np.array([[[1,2, 3], [2, 3, 4], [3, 4, 5]], \n",
    "                  [[1,2, 3], [2, 3, 4], [3, 4, 6]], \n",
    "                  [[1,2, 3], [2, 3, 4], [3, 4, 7]]])\n",
    "x"
   ]
  },
  {
   "cell_type": "code",
   "execution_count": null,
   "metadata": {},
   "outputs": [],
   "source": [
    "np.flip(x, axis =0 )"
   ]
  },
  {
   "cell_type": "markdown",
   "metadata": {},
   "source": [
    "## Splitting and merging channels with CV2 and Matplotlib"
   ]
  },
  {
   "cell_type": "code",
   "execution_count": null,
   "metadata": {},
   "outputs": [],
   "source": [
    "def merge_channels(name, channel, renderer='matplotlib'):\n",
    "    if name=='Red':\n",
    "        merged_channel = cv2.merge([channel, zeros, zeros]) #R, 0, 0\n",
    "        if renderer == 'cv2':\n",
    "            return np.flip(merged_channel, axis = 2) #0, 0, R\n",
    "        return merged_channel\n",
    "        \n",
    "    if name=='Blue':\n",
    "        merged_channel = cv2.merge([zeros, zeros, channel]) #0, 0, B\n",
    "        if renderer == 'cv2':\n",
    "            return np.flip(merged_channel, axis = 2) #B, 0, 0\n",
    "        return merged_channel\n",
    "    \n",
    "    elif name == 'Green':\n",
    "        merged_channel = cv2.merge([zeros, channel, zeros]) #0, G, 0\n",
    "        return merged_channel"
   ]
  },
  {
   "cell_type": "code",
   "execution_count": null,
   "metadata": {},
   "outputs": [],
   "source": [
    "def split_channels(file_path, renderer):\n",
    "    zeros = np.zeros(lego_matpotlib.shape[:2], dtype='uint8')\n",
    "    channel_names = ['Red', 'Green', 'Blue']\n",
    "    \n",
    "    if renderer == 'cv2':\n",
    "        image = cv2.imread(file_path)  # B, G, R\n",
    "        show_image(np.flip(image, axis = 2))\n",
    "        channels = cv2.split(image) # B, G, R\n",
    "        channel_names.reverse()\n",
    "        for name, channel in zip(channel_names, channels):\n",
    "            cv2.imshow(name, merge_channels(name, channel, renderer = 'cv2'))\n",
    "        cv2.waitKey(0)\n",
    "        \n",
    "    elif renderer == 'matplotlib':\n",
    "        image = plt.imread(file_path) # R, G, B\n",
    "        show_image(image)\n",
    "        channels = [image[:, :, i] for i in range(3)] # R, G, B\n",
    "        for name, channel in zip(channel_names, channels):\n",
    "            print(name)\n",
    "            show_image(merge_channels(name, channel))"
   ]
  },
  {
   "cell_type": "code",
   "execution_count": null,
   "metadata": {},
   "outputs": [],
   "source": [
    "split_channels('../img/lego.jpg', renderer = 'matplotlib')"
   ]
  },
  {
   "cell_type": "code",
   "execution_count": null,
   "metadata": {},
   "outputs": [],
   "source": [
    "split_channels('../img/lego.jpg', renderer = 'cv2')"
   ]
  }
 ],
 "metadata": {
  "kernelspec": {
   "display_name": "Python 3",
   "language": "python",
   "name": "python3"
  },
  "language_info": {
   "codemirror_mode": {
    "name": "ipython",
    "version": 3
   },
   "file_extension": ".py",
   "mimetype": "text/x-python",
   "name": "python",
   "nbconvert_exporter": "python",
   "pygments_lexer": "ipython3",
   "version": "3.7.6"
  }
 },
 "nbformat": 4,
 "nbformat_minor": 4
}
