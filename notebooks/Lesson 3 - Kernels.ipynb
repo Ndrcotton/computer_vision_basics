{
 "cells": [
  {
   "cell_type": "code",
   "execution_count": null,
   "metadata": {},
   "outputs": [],
   "source": [
    "import cv2\n",
    "import numpy as np\n",
    "import matplotlib.pyplot as plt\n",
    "%matplotlib inline"
   ]
  },
  {
   "cell_type": "code",
   "execution_count": null,
   "metadata": {},
   "outputs": [],
   "source": [
    "def show_image(image, cmap = None, fig_size = (10, 10)):\n",
    "    fig, ax = plt.subplots(figsize=fig_size)\n",
    "    ax.imshow(image, cmap = cmap)\n",
    "    ax.axis('off')\n",
    "    plt.show()"
   ]
  },
  {
   "cell_type": "markdown",
   "metadata": {},
   "source": [
    "## 2. Morphological Transformations"
   ]
  },
  {
   "cell_type": "markdown",
   "metadata": {},
   "source": [
    "### 2.1 Erosion"
   ]
  },
  {
   "cell_type": "code",
   "execution_count": null,
   "metadata": {},
   "outputs": [],
   "source": [
    "image = cv2.imread('../img/coding.png')\n",
    "gray = cv2.cvtColor(image, cv2.COLOR_BGR2GRAY)\n",
    "\n",
    "# apply a series of erosions\n",
    "for i in range(0, 3):\n",
    "    eroded = cv2.erode(gray.copy(), None, iterations=i + 1)\n",
    "    cv2.imshow(\"Eroded {} times\".format(i + 1), eroded)\n",
    "    cv2.waitKey(0)"
   ]
  },
  {
   "cell_type": "markdown",
   "metadata": {},
   "source": [
    "### 2.2 Dilation"
   ]
  },
  {
   "cell_type": "code",
   "execution_count": null,
   "metadata": {},
   "outputs": [],
   "source": [
    "# apply a series of dilations\n",
    "for i in range(0, 3):\n",
    "    dilated = cv2.dilate(gray.copy(), None, iterations=i + 1)\n",
    "    cv2.imshow(\"Dilated {} times\".format(i + 1), dilated)\n",
    "    cv2.waitKey(0)"
   ]
  },
  {
   "cell_type": "markdown",
   "metadata": {},
   "source": [
    "### 2.3 Opening"
   ]
  },
  {
   "cell_type": "code",
   "execution_count": null,
   "metadata": {},
   "outputs": [],
   "source": [
    "kernelSizes = [(3, 3), (5, 5), (7, 7)]\n",
    " \n",
    "# loop over the kernels and apply an \"opening\" operation to the image\n",
    "for kernelSize in kernelSizes:\n",
    "    kernel = cv2.getStructuringElement(cv2.MORPH_RECT, kernelSize)\n",
    "    opening = cv2.morphologyEx(gray, cv2.MORPH_OPEN, kernel)\n",
    "    cv2.imshow(\"Opening: ({}, {})\".format(kernelSize[0], kernelSize[1]), opening)\n",
    "    cv2.waitKey(0)"
   ]
  },
  {
   "cell_type": "markdown",
   "metadata": {},
   "source": [
    "### 2.4 Closing"
   ]
  },
  {
   "cell_type": "code",
   "execution_count": null,
   "metadata": {},
   "outputs": [],
   "source": [
    "# loop over the kernels and apply a \"closing\" operation to the image\n",
    "for kernelSize in kernelSizes:\n",
    "    kernel = cv2.getStructuringElement(cv2.MORPH_RECT, kernelSize)\n",
    "    closing = cv2.morphologyEx(gray, cv2.MORPH_CLOSE, kernel)\n",
    "    cv2.imshow(\"Closing: ({}, {})\".format(kernelSize[0], kernelSize[1]), closing)\n",
    "    cv2.waitKey(0)"
   ]
  },
  {
   "cell_type": "markdown",
   "metadata": {},
   "source": [
    "### 2.5 Morphological Gradient"
   ]
  },
  {
   "cell_type": "code",
   "execution_count": null,
   "metadata": {},
   "outputs": [],
   "source": [
    "# loop over the kernels and apply a \"closing\" operation to the image\n",
    "for kernelSize in kernelSizes:\n",
    "    kernel = cv2.getStructuringElement(cv2.MORPH_RECT, kernelSize)\n",
    "    gradient = cv2.morphologyEx(image, cv2.MORPH_GRADIENT, kernel)\n",
    "    cv2.imshow(\"Morphological Gradient: ({}, {})\".format(kernelSize[0], kernelSize[1]), gradient)\n",
    "    cv2.waitKey(0)"
   ]
  },
  {
   "cell_type": "markdown",
   "metadata": {},
   "source": [
    "### 2.5 Top Hat"
   ]
  },
  {
   "cell_type": "code",
   "execution_count": null,
   "metadata": {},
   "outputs": [],
   "source": [
    "gray = cv2.cvtColor(image, cv2.COLOR_BGR2GRAY)\n",
    " \n",
    "# construct a rectangular kernel and apply a blackhat operation which\n",
    "# enables us to find dark regions on a light background\n",
    "rectKernel = cv2.getStructuringElement(cv2.MORPH_RECT, (13, 5))\n",
    "blackhat = cv2.morphologyEx(gray, cv2.MORPH_BLACKHAT, rectKernel)"
   ]
  },
  {
   "cell_type": "markdown",
   "metadata": {},
   "source": [
    "### 2.6 White Hat"
   ]
  },
  {
   "cell_type": "code",
   "execution_count": null,
   "metadata": {},
   "outputs": [],
   "source": [
    "gray = cv2.cvtColor(image, cv2.COLOR_BGR2GRAY)\n",
    " \n",
    "# construct a rectangular kernel and apply a blackhat operation which\n",
    "# enables us to find dark regions on a light background\n",
    "rectKernel = cv2.getStructuringElement(cv2.MORPH_RECT, (13, 5))\n",
    "\n",
    "# similarly, a tophat (also called a \"whitehat\") operation will enable\n",
    "# us to find light regions on a dark background\n",
    "tophat = cv2.morphologyEx(gray, cv2.MORPH_TOPHAT, rectKernel)"
   ]
  },
  {
   "cell_type": "markdown",
   "metadata": {},
   "source": [
    "### EXERCISE: Use Erosion + Dilation to pre-process images"
   ]
  },
  {
   "cell_type": "code",
   "execution_count": null,
   "metadata": {},
   "outputs": [],
   "source": []
  },
  {
   "cell_type": "markdown",
   "metadata": {},
   "source": []
  },
  {
   "cell_type": "markdown",
   "metadata": {},
   "source": [
    "## 2. Kernels"
   ]
  },
  {
   "cell_type": "markdown",
   "metadata": {},
   "source": [
    "### 2.1 Constructing a Kernel"
   ]
  },
  {
   "cell_type": "code",
   "execution_count": null,
   "metadata": {},
   "outputs": [],
   "source": [
    "img = cv2.imread('../img/opencv_logo.png')\n",
    "\n",
    "kernel = np.ones((5,5),np.float32)/25\n",
    "dst = cv2.filter2D(img,-1,kernel)\n",
    "\n",
    "plt.subplot(121),plt.imshow(img),plt.title('Original')\n",
    "plt.xticks([]), plt.yticks([])\n",
    "plt.subplot(122),plt.imshow(dst),plt.title('Averaging')\n",
    "plt.xticks([]), plt.yticks([])\n",
    "plt.show()"
   ]
  },
  {
   "cell_type": "markdown",
   "metadata": {},
   "source": [
    "### 2.2 Structual Elements (Kernel Shapes)"
   ]
  },
  {
   "cell_type": "code",
   "execution_count": null,
   "metadata": {},
   "outputs": [],
   "source": [
    "cv2.getStructuringElement(cv2.MORPH_RECT,(5,5))"
   ]
  },
  {
   "cell_type": "code",
   "execution_count": null,
   "metadata": {},
   "outputs": [],
   "source": [
    "cv2.getStructuringElement(cv2.MORPH_ELLIPSE,(5,5))"
   ]
  },
  {
   "cell_type": "code",
   "execution_count": null,
   "metadata": {},
   "outputs": [],
   "source": [
    "cv2.getStructuringElement(cv2.MORPH_CROSS,(5,5))"
   ]
  },
  {
   "cell_type": "markdown",
   "metadata": {},
   "source": [
    "## 3. Smoothing Kernels"
   ]
  },
  {
   "cell_type": "markdown",
   "metadata": {},
   "source": [
    "### 3.1 Average Blurring"
   ]
  },
  {
   "cell_type": "code",
   "execution_count": null,
   "metadata": {},
   "outputs": [],
   "source": [
    "kernelSizes = [(3, 3), (9, 9), (15, 15)]\n",
    " \n",
    "# loop over the kernel sizes and apply an \"average\" blur to the image\n",
    "for (kX, kY) in kernelSizes:\n",
    "    blurred = cv2.blur(image, (kX, kY))\n",
    "    cv2.imshow(\"Average ({}, {})\".format(kX, kY), blurred)\n",
    "    cv2.waitKey(0)"
   ]
  },
  {
   "cell_type": "markdown",
   "metadata": {},
   "source": [
    "### 3.2 Gaussian Blurring"
   ]
  },
  {
   "cell_type": "code",
   "execution_count": null,
   "metadata": {},
   "outputs": [],
   "source": [
    "# loop over the kernel sizes and apply a \"Gaussian\" blur to the image\n",
    "for (kX, kY) in kernelSizes:\n",
    "    blurred = cv2.GaussianBlur(image, (kX, kY), 0)\n",
    "    cv2.imshow(\"Gaussian ({}, {})\".format(kX, kY), blurred)\n",
    "    cv2.waitKey(0)"
   ]
  },
  {
   "cell_type": "markdown",
   "metadata": {},
   "source": [
    "### 3.3 Median Blurring"
   ]
  },
  {
   "cell_type": "code",
   "execution_count": null,
   "metadata": {},
   "outputs": [],
   "source": [
    "# loop over the kernel sizes and apply a \"Median\" blur to the image\n",
    "for k in (3, 9, 15):\n",
    "    blurred = cv2.medianBlur(image, k)\n",
    "    cv2.imshow(\"Median {}\".format(k), blurred)\n",
    "    cv2.waitKey(0)"
   ]
  },
  {
   "cell_type": "markdown",
   "metadata": {},
   "source": [
    "### 3.4 Bi-lateral Blurring"
   ]
  },
  {
   "cell_type": "code",
   "execution_count": null,
   "metadata": {},
   "outputs": [],
   "source": [
    "# loop over the diameter, sigma color, and sigma space\n",
    "for (diameter, sigmaColor, sigmaSpace) in params:\n",
    "    # apply bilateral filtering and display the image\n",
    "    blurred = cv2.bilateralFilter(image, diameter, sigmaColor, sigmaSpace)\n",
    "    title = \"Blurred d={}, sc={}, ss={}\".format(diameter, sigmaColor, sigmaSpace)\n",
    "    cv2.imshow(title, blurred)\n",
    "    cv2.waitKey(0)"
   ]
  },
  {
   "cell_type": "markdown",
   "metadata": {},
   "source": [
    "### EXERCISE: Smoothing Images"
   ]
  },
  {
   "cell_type": "code",
   "execution_count": null,
   "metadata": {},
   "outputs": [],
   "source": []
  }
 ],
 "metadata": {
  "kernelspec": {
   "display_name": "Python 3",
   "language": "python",
   "name": "python3"
  },
  "language_info": {
   "codemirror_mode": {
    "name": "ipython",
    "version": 3
   },
   "file_extension": ".py",
   "mimetype": "text/x-python",
   "name": "python",
   "nbconvert_exporter": "python",
   "pygments_lexer": "ipython3",
   "version": "3.7.6"
  }
 },
 "nbformat": 4,
 "nbformat_minor": 4
}
