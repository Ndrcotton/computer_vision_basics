{
 "cells": [
  {
   "cell_type": "code",
   "execution_count": 1,
   "metadata": {},
   "outputs": [],
   "source": [
    "import cv2\n",
    "import numpy as np\n",
    "import matplotlib.pyplot as plt\n",
    "%matplotlib inline"
   ]
  },
  {
   "cell_type": "markdown",
   "metadata": {},
   "source": [
    "## 1. Loading and Saving Images"
   ]
  },
  {
   "cell_type": "code",
   "execution_count": null,
   "metadata": {},
   "outputs": [],
   "source": [
    "# Accessing and Modifying pixel values\n",
    "# loads an image\n",
    "image = cv2.imread('../img/coding.png')\n",
    "# It returns a tuple of number of rows, columns and channels (if image is color)\n",
    "image.shape"
   ]
  },
  {
   "cell_type": "code",
   "execution_count": null,
   "metadata": {},
   "outputs": [],
   "source": [
    "def show_image(image, cmap = None, fig_size = (10, 10)):\n",
    "    fig, ax = plt.subplots(figsize=fig_size)\n",
    "    ax.imshow(image, cmap = cmap)\n",
    "    ax.axis('off')\n",
    "    plt.show()"
   ]
  },
  {
   "cell_type": "code",
   "execution_count": null,
   "metadata": {},
   "outputs": [],
   "source": [
    "show_image(image)"
   ]
  },
  {
   "cell_type": "code",
   "execution_count": null,
   "metadata": {},
   "outputs": [],
   "source": [
    "# accessing image section and converting it to white\n",
    "image[10:50, 100:140] = [255, 255, 255]\n",
    "show_image(image)"
   ]
  },
  {
   "cell_type": "code",
   "execution_count": null,
   "metadata": {},
   "outputs": [],
   "source": [
    "cv2.imwrite('edited.png', image)"
   ]
  },
  {
   "cell_type": "markdown",
   "metadata": {},
   "source": [
    "### EXERCISE: Load an image, crop it then save it to disk"
   ]
  },
  {
   "cell_type": "code",
   "execution_count": null,
   "metadata": {},
   "outputs": [],
   "source": []
  },
  {
   "cell_type": "markdown",
   "metadata": {},
   "source": [
    "## 2. Colour Channels"
   ]
  },
  {
   "cell_type": "code",
   "execution_count": null,
   "metadata": {},
   "outputs": [],
   "source": [
    "shapes_image = \"../img/shapes.png\""
   ]
  },
  {
   "cell_type": "code",
   "execution_count": null,
   "metadata": {},
   "outputs": [],
   "source": [
    "# reads image using matplotlib\n",
    "shapes_matpotlib = plt.imread(shapes_image)"
   ]
  },
  {
   "cell_type": "code",
   "execution_count": null,
   "metadata": {},
   "outputs": [],
   "source": [
    "show_image(shapes_matpotlib)"
   ]
  },
  {
   "cell_type": "code",
   "execution_count": null,
   "metadata": {},
   "outputs": [],
   "source": [
    "# ????\n",
    "shapes_cv2 = cv2.imread(shapes_image)\n",
    "show_image(shapes_cv2)"
   ]
  },
  {
   "cell_type": "code",
   "execution_count": null,
   "metadata": {},
   "outputs": [],
   "source": [
    "show_image(np.flip(shapes_cv2, axis = 2))"
   ]
  },
  {
   "cell_type": "markdown",
   "metadata": {},
   "source": [
    "### 2.1 Splitting colour channels to render with matplotlib "
   ]
  },
  {
   "cell_type": "code",
   "execution_count": null,
   "metadata": {},
   "outputs": [],
   "source": [
    "channels_matplotlib = [shapes_matpotlib[:, : , i] for i in range(3)]\n",
    "names = ['Red', 'Green', 'Blue']\n",
    "for name, channel in zip(names, channels_matplotlib):\n",
    "    print(name)\n",
    "    show_image(channel, cmap='gray')"
   ]
  },
  {
   "cell_type": "markdown",
   "metadata": {},
   "source": [
    "### 2.2 Splitting colour channels to render with CV2 "
   ]
  },
  {
   "cell_type": "code",
   "execution_count": null,
   "metadata": {},
   "outputs": [],
   "source": [
    "cv2.imshow('Original', shapes_cv2)\n",
    "channels_cv2 = cv2.split(shapes_cv2)\n",
    "\n",
    "names = ['Blue', 'Green', 'Red']\n",
    "for name, channel in zip(names, channels_cv2):\n",
    "    cv2.imshow(name, channel)\n",
    "# cv2.waitKey(0)"
   ]
  },
  {
   "cell_type": "markdown",
   "metadata": {},
   "source": [
    "### 2.3 Flipping matrices with numpy"
   ]
  },
  {
   "cell_type": "code",
   "execution_count": null,
   "metadata": {},
   "outputs": [],
   "source": [
    "x = np.array([[[1,2, 3], [2, 3, 4], [3, 4, 5]], \n",
    "                  [[1,2, 3], [2, 3, 4], [3, 4, 6]], \n",
    "                  [[1,2, 3], [2, 3, 4], [3, 4, 7]]])\n",
    "x"
   ]
  },
  {
   "cell_type": "code",
   "execution_count": null,
   "metadata": {},
   "outputs": [],
   "source": [
    "np.flip(x, axis =0 )"
   ]
  },
  {
   "cell_type": "markdown",
   "metadata": {},
   "source": [
    "### 2.4 Splitting and merging channels with CV2 and Matplotlib"
   ]
  },
  {
   "cell_type": "code",
   "execution_count": null,
   "metadata": {},
   "outputs": [],
   "source": [
    "def merge_channels(name, channel, renderer='matplotlib'):\n",
    "    zeros = np.zeros(shapes_matpotlib.shape[:2], dtype='uint8')\n",
    "    if name=='Red':\n",
    "        merged_channel = cv2.merge([channel, zeros, zeros]) #R, 0, 0\n",
    "        if renderer == 'cv2':\n",
    "            return np.flip(merged_channel, axis = 2) #0, 0, R\n",
    "        return merged_channel\n",
    "        \n",
    "    if name=='Blue':\n",
    "        merged_channel = cv2.merge([zeros, zeros, channel]) #0, 0, B\n",
    "        if renderer == 'cv2':\n",
    "            return np.flip(merged_channel, axis = 2) #B, 0, 0\n",
    "        return merged_channel\n",
    "    \n",
    "    elif name == 'Green':\n",
    "        merged_channel = cv2.merge([zeros, channel, zeros]) #0, G, 0\n",
    "        return merged_channel"
   ]
  },
  {
   "cell_type": "code",
   "execution_count": null,
   "metadata": {},
   "outputs": [],
   "source": [
    "def split_channels(file_path, renderer):\n",
    "    zeros = np.zeros(shapes_matpotlib.shape[:2], dtype='uint8')\n",
    "    channel_names = ['Red', 'Green', 'Blue']\n",
    "    \n",
    "    if renderer == 'cv2':\n",
    "        image = cv2.imread(file_path)  # B, G, R\n",
    "        show_image(np.flip(image, axis = 2))\n",
    "        channels = cv2.split(image) # B, G, R\n",
    "        channel_names.reverse()\n",
    "        for name, channel in zip(channel_names, channels):\n",
    "            cv2.imshow(name, merge_channels(name, channel, renderer = 'cv2'))\n",
    "        cv2.waitKey(0)\n",
    "        \n",
    "    elif renderer == 'matplotlib':\n",
    "        image = plt.imread(file_path) # R, G, B\n",
    "        show_image(image)\n",
    "        channels = [image[:, :, i] for i in range(3)] # R, G, B\n",
    "        for name, channel in zip(channel_names, channels):\n",
    "            print(name)\n",
    "            show_image(merge_channels(name, channel))"
   ]
  },
  {
   "cell_type": "code",
   "execution_count": null,
   "metadata": {},
   "outputs": [],
   "source": [
    "split_channels(shapes_image, renderer = 'matplotlib')"
   ]
  },
  {
   "cell_type": "code",
   "execution_count": null,
   "metadata": {},
   "outputs": [],
   "source": [
    "split_channels(shapes_image, renderer = 'cv2')"
   ]
  },
  {
   "cell_type": "markdown",
   "metadata": {},
   "source": [
    "### EXERCISE: Load an image, Split its colour channels. Show it, then merge its colour channel and show it again"
   ]
  },
  {
   "cell_type": "code",
   "execution_count": null,
   "metadata": {},
   "outputs": [],
   "source": []
  }
 ],
 "metadata": {
  "kernelspec": {
   "display_name": "test_req",
   "language": "python",
   "name": "test_req"
  },
  "language_info": {
   "codemirror_mode": {
    "name": "ipython",
    "version": 3
   },
   "file_extension": ".py",
   "mimetype": "text/x-python",
   "name": "python",
   "nbconvert_exporter": "python",
   "pygments_lexer": "ipython3",
   "version": "3.7.4"
  }
 },
 "nbformat": 4,
 "nbformat_minor": 4
}
