{
 "cells": [
  {
   "cell_type": "code",
   "execution_count": null,
   "metadata": {},
   "outputs": [],
   "source": [
    "import cv2\n",
    "import numpy as np\n",
    "import matplotlib.pyplot as plt\n",
    "%matplotlib inline"
   ]
  },
  {
   "cell_type": "code",
   "execution_count": 1,
   "metadata": {},
   "outputs": [],
   "source": [
    "def show_image(image, cmap = None, fig_size = (10, 10)):\n",
    "    fig, ax = plt.subplots(figsize=fig_size)\n",
    "    ax.imshow(image, cmap = cmap)\n",
    "    ax.axis('off')\n",
    "    plt.show()"
   ]
  },
  {
   "cell_type": "markdown",
   "metadata": {},
   "source": [
    "## 1. Drawing Shapes"
   ]
  },
  {
   "cell_type": "code",
   "execution_count": null,
   "metadata": {},
   "outputs": [],
   "source": [
    "canvas = np.zeros((300, 300, 3), dtype=\"uint8\")"
   ]
  },
  {
   "cell_type": "markdown",
   "metadata": {},
   "source": [
    "### 1.1 Drawing Lines"
   ]
  },
  {
   "cell_type": "code",
   "execution_count": null,
   "metadata": {},
   "outputs": [],
   "source": [
    "green = (0, 255, 0)\n",
    "cv2.line(canvas, (0, 0), (300, 300), green)\n",
    "\n",
    "red = (0, 0, 255)\n",
    "cv2.line(canvas, (300, 0), (0, 300), red, 3)\n",
    "cv2.imshow(\"Canvas\", canvas)\n",
    "cv2.waitKey(0)"
   ]
  },
  {
   "cell_type": "markdown",
   "metadata": {},
   "source": [
    "### 1.2 Drawing Rectangles"
   ]
  },
  {
   "cell_type": "code",
   "execution_count": null,
   "metadata": {},
   "outputs": [],
   "source": [
    "cv2.rectangle(canvas, (10, 10), (60, 60), green)\n",
    "cv2.imshow(\"Canvas\", canvas)\n",
    "cv2.waitKey(0)"
   ]
  },
  {
   "cell_type": "markdown",
   "metadata": {},
   "source": [
    "### 1.3 Drawing Circles"
   ]
  },
  {
   "cell_type": "code",
   "execution_count": null,
   "metadata": {},
   "outputs": [],
   "source": [
    "white = (255, 255, 255)\n",
    "(centerX, centerY) = (canvas.shape[1] // 2, canvas.shape[0] // 2)\n",
    "cv2.circle(canvas, (centerX, centerY), r, white)\n",
    "cv2.imshow(\"Canvas\", canvas)\n",
    "cv2.waitKey(0)"
   ]
  },
  {
   "cell_type": "markdown",
   "metadata": {},
   "source": [
    "### EXERCISE: Draw Random shapes"
   ]
  },
  {
   "cell_type": "code",
   "execution_count": null,
   "metadata": {},
   "outputs": [],
   "source": [
    "# TODO: Use a random number generator to draw random number of shapes in various sizes over the canvas"
   ]
  },
  {
   "cell_type": "markdown",
   "metadata": {},
   "source": [
    "## 2. Masks"
   ]
  },
  {
   "cell_type": "markdown",
   "metadata": {},
   "source": [
    "### 2.1: Drawing Shape Masks"
   ]
  },
  {
   "cell_type": "code",
   "execution_count": null,
   "metadata": {},
   "outputs": [],
   "source": [
    "mask = np.zeros(image.shape[:2], dtype=\"uint8\")\n",
    "cv2.rectangle(mask, (0, 90), (290, 450), 255, -1)\n",
    "\n",
    "masked = cv2.bitwise_and(image, image, mask=mask)\n",
    "cv2.imshow(\"Mask Applied to Image\", masked)"
   ]
  },
  {
   "cell_type": "markdown",
   "metadata": {},
   "source": [
    "### 2.2: Extracting Objects from Images"
   ]
  },
  {
   "cell_type": "code",
   "execution_count": null,
   "metadata": {},
   "outputs": [],
   "source": [
    "mask = np.zeros(image.shape[:2], dtype=\"uint8\")\n",
    "cv2.circle(mask, (145, 200), 100, 255, -1)\n",
    "masked = cv2.bitwise_and(image, image, mask=mask"
   ]
  },
  {
   "cell_type": "markdown",
   "metadata": {},
   "source": [
    "### EXERCISE: Extract Faces out of Images"
   ]
  },
  {
   "cell_type": "code",
   "execution_count": null,
   "metadata": {},
   "outputs": [],
   "source": []
  },
  {
   "cell_type": "markdown",
   "metadata": {},
   "source": [
    "## 3. Geometrical Transformations"
   ]
  },
  {
   "cell_type": "markdown",
   "metadata": {},
   "source": [
    "### 3.1 Translation"
   ]
  },
  {
   "cell_type": "code",
   "execution_count": null,
   "metadata": {},
   "outputs": [],
   "source": [
    "M = np.float32([[1, 0, 25], [0, 1, 50]])\n",
    "shifted = cv2.warpAffine(image, M, (image.shape[1], image.shape[0]))"
   ]
  },
  {
   "cell_type": "markdown",
   "metadata": {},
   "source": [
    "### 3.2 Rotation"
   ]
  },
  {
   "cell_type": "code",
   "execution_count": null,
   "metadata": {},
   "outputs": [],
   "source": [
    "(h, w) = image.shape[:2]\n",
    "(cX, cY) = (w / 2, h / 2)\n",
    "\n",
    "M = cv2.getRotationMatrix2D((cX, cY), 45, 1.0)\n",
    "rotated = cv2.warpAffine(image, M, (w, h))\n",
    "cv2.imshow(\"Rotated by 45 Degrees\", rotated)"
   ]
  },
  {
   "cell_type": "markdown",
   "metadata": {},
   "source": [
    "### 3.3 Scaling"
   ]
  },
  {
   "cell_type": "code",
   "execution_count": null,
   "metadata": {},
   "outputs": [],
   "source": [
    "r = 150.0 / image.shape[1]\n",
    "dim = (150, int(image.shape[0] * r))\n",
    "resized = cv2.resize(image, dim, interpolation=cv2.INTER_AREA)\n",
    "\n",
    "\n",
    "# construct the list of interpolation methods\n",
    "methods = [\n",
    "    (\"cv2.INTER_NEAREST\", cv2.INTER_NEAREST),\n",
    "    (\"cv2.INTER_LINEAR\", cv2.INTER_LINEAR),\n",
    "    (\"cv2.INTER_AREA\", cv2.INTER_AREA),\n",
    "    (\"cv2.INTER_CUBIC\", cv2.INTER_CUBIC),\n",
    "    (\"cv2.INTER_LANCZOS4\", cv2.INTER_LANCZOS4)]\n",
    " \n",
    "# loop over the interpolation methods\n",
    "for (name, method) in methods:\n",
    "    # increase the size of the image by 3x using the current interpolation method\n",
    "    resized = imutils.resize(image, width=image.shape[1] * 3, inter=method)\n",
    "    cv2.imshow(\"Method: {}\".format(name), resized)\n",
    "    cv2.waitKey(0)"
   ]
  },
  {
   "cell_type": "markdown",
   "metadata": {},
   "source": [
    "### 3.4 Flipping"
   ]
  },
  {
   "cell_type": "code",
   "execution_count": null,
   "metadata": {},
   "outputs": [],
   "source": [
    "# flip the image horizontally\n",
    "flipped = cv2.flip(image, 1)\n",
    "cv2.imshow(\"Flipped Horizontally\", flipped)\n",
    " \n",
    "# flip the image vertically\n",
    "flipped = cv2.flip(image, 0)\n",
    "cv2.imshow(\"Flipped Vertically\", flipped)\n",
    " \n",
    "# flip the image along both axes\n",
    "flipped = cv2.flip(image, -1)\n",
    "cv2.imshow(\"Flipped Horizontally & Vertically\", flipped)"
   ]
  },
  {
   "cell_type": "markdown",
   "metadata": {},
   "source": [
    "### 3.5 Cropping"
   ]
  },
  {
   "cell_type": "code",
   "execution_count": null,
   "metadata": {},
   "outputs": [],
   "source": [
    "face = image[85:250, 85:220]"
   ]
  },
  {
   "cell_type": "markdown",
   "metadata": {},
   "source": [
    "### 3.6 Image Arithmetic"
   ]
  },
  {
   "cell_type": "code",
   "execution_count": null,
   "metadata": {},
   "outputs": [],
   "source": [
    "M = np.ones(image.shape, dtype = \"uint8\") * 100\n",
    "added = cv2.add(image, M)\n",
    "\n",
    "M = np.ones(image.shape, dtype = \"uint8\") * 50\n",
    "subtracted = cv2.subtract(image, M)"
   ]
  },
  {
   "cell_type": "markdown",
   "metadata": {},
   "source": [
    "### 3.7 Bitwise Operations"
   ]
  },
  {
   "cell_type": "code",
   "execution_count": null,
   "metadata": {},
   "outputs": [],
   "source": [
    "rectangle = np.zeros((300, 300), dtype = \"uint8\")\n",
    "cv2.rectangle(rectangle, (25, 25), (275, 275), 255, -1)\n",
    "\n",
    "circle = np.zeros((300, 300), dtype = \"uint8\")\n",
    "cv2.circle(circle, (150, 150), 150, 255, -1)\n",
    "\n",
    "bitwiseAnd = cv2.bitwise_and(rectangle, circle)\n",
    "cv2.imshow(\"AND\", bitwiseAnd)"
   ]
  },
  {
   "cell_type": "code",
   "execution_count": null,
   "metadata": {},
   "outputs": [],
   "source": [
    "bitwiseOr = cv2.bitwise_or(rectangle, circle)\n",
    "cv2.imshow(\"OR\", bitwiseOr)"
   ]
  },
  {
   "cell_type": "code",
   "execution_count": null,
   "metadata": {},
   "outputs": [],
   "source": [
    "bitwiseXor = cv2.bitwise_xor(rectangle, circle)\n",
    "cv2.imshow(\"XOR\", bitwiseXor)"
   ]
  },
  {
   "cell_type": "code",
   "execution_count": null,
   "metadata": {},
   "outputs": [],
   "source": [
    "bitwiseNot = cv2.bitwise_not(circle)\n",
    "cv2.imshow(\"NOT\", bitwiseNot)"
   ]
  },
  {
   "cell_type": "markdown",
   "metadata": {},
   "source": [
    "### EXERCISE: Complex Transformations"
   ]
  },
  {
   "cell_type": "code",
   "execution_count": null,
   "metadata": {},
   "outputs": [],
   "source": []
  }
 ],
 "metadata": {
  "kernelspec": {
   "display_name": "Python 3",
   "language": "python",
   "name": "python3"
  },
  "language_info": {
   "codemirror_mode": {
    "name": "ipython",
    "version": 3
   },
   "file_extension": ".py",
   "mimetype": "text/x-python",
   "name": "python",
   "nbconvert_exporter": "python",
   "pygments_lexer": "ipython3",
   "version": "3.7.6"
  }
 },
 "nbformat": 4,
 "nbformat_minor": 4
}
