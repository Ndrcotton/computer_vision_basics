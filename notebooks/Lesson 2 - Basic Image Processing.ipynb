{
 "cells": [
  {
   "cell_type": "code",
   "execution_count": null,
   "metadata": {},
   "outputs": [],
   "source": [
    "import cv2\n",
    "import numpy as np\n",
    "import matplotlib.pyplot as plt\n",
    "%matplotlib inline"
   ]
  },
  {
   "cell_type": "code",
   "execution_count": null,
   "metadata": {},
   "outputs": [],
   "source": [
    "def show_image(image, cmap = None, fig_size = (10, 10)):\n",
    "    fig, ax = plt.subplots(figsize=fig_size)\n",
    "    ax.imshow(image, cmap = cmap)\n",
    "    ax.axis('off')\n",
    "    plt.show()"
   ]
  },
  {
   "cell_type": "markdown",
   "metadata": {},
   "source": [
    "## 1. Drawing Shapes"
   ]
  },
  {
   "cell_type": "code",
   "execution_count": null,
   "metadata": {},
   "outputs": [],
   "source": [
    "canvas = np.zeros((300, 300, 3), dtype=\"uint8\")"
   ]
  },
  {
   "cell_type": "markdown",
   "metadata": {},
   "source": [
    "### 1.1 Drawing Lines"
   ]
  },
  {
   "cell_type": "code",
   "execution_count": null,
   "metadata": {},
   "outputs": [],
   "source": [
    "green = (0, 255, 0)\n",
    "cv2.line(canvas, (0, 0), (300, 300), green)\n",
    "\n",
    "red = (0, 0, 255)\n",
    "\n",
    "cv2.line(canvas, (300, 0), (0, 300), red, 3)\n",
    "show_image(canvas)\n"
   ]
  },
  {
   "cell_type": "markdown",
   "metadata": {},
   "source": [
    "### 1.2 Drawing Rectangles"
   ]
  },
  {
   "cell_type": "code",
   "execution_count": null,
   "metadata": {},
   "outputs": [],
   "source": [
    "cv2.rectangle(canvas, (10, 10), (60, 60), green)\n",
    "show_image(canvas)"
   ]
  },
  {
   "cell_type": "markdown",
   "metadata": {},
   "source": [
    "### 1.3 Drawing Circles"
   ]
  },
  {
   "cell_type": "code",
   "execution_count": null,
   "metadata": {},
   "outputs": [],
   "source": [
    "white = (255, 255, 255)\n",
    "radios = 100\n",
    "(centerX, centerY) = (canvas.shape[1] // 2, canvas.shape[0] // 2)\n",
    "cv2.circle(canvas, (centerX, centerY), radios, white)\n",
    "show_image(canvas)"
   ]
  },
  {
   "cell_type": "markdown",
   "metadata": {},
   "source": [
    "### EXERCISE: Draw Random shapes"
   ]
  },
  {
   "cell_type": "code",
   "execution_count": null,
   "metadata": {},
   "outputs": [],
   "source": [
    "# TODO: Use a random number generator to draw random number of shapes in various sizes over the canvas"
   ]
  },
  {
   "cell_type": "markdown",
   "metadata": {},
   "source": [
    "## 2. Masks"
   ]
  },
  {
   "cell_type": "markdown",
   "metadata": {},
   "source": [
    "### 2.1: Drawing Shape Masks"
   ]
  },
  {
   "cell_type": "code",
   "execution_count": null,
   "metadata": {},
   "outputs": [],
   "source": [
    "image = cv2.imread('../img/coding.png')\n",
    "mask = np.zeros(image.shape[:2], dtype=\"uint8\")\n",
    "cv2.rectangle(mask, (0, 90), (290, 450), 255, -1)\n",
    "\n",
    "masked = cv2.bitwise_and(image, image, mask=mask)\n",
    "show_image(masked)"
   ]
  },
  {
   "cell_type": "markdown",
   "metadata": {},
   "source": [
    "### 2.2: Extracting Objects from Images"
   ]
  },
  {
   "cell_type": "code",
   "execution_count": null,
   "metadata": {},
   "outputs": [],
   "source": [
    "mask = np.zeros(image.shape[:2], dtype=\"uint8\")\n",
    "cv2.circle(mask, (145, 200), 100, 255, -1)\n",
    "masked = cv2.bitwise_and(image, image, mask=mask)\n",
    "show_image(masked)"
   ]
  },
  {
   "cell_type": "markdown",
   "metadata": {},
   "source": [
    "### EXERCISE: Crop Out a muffin from this image using a rectangular mask"
   ]
  },
  {
   "cell_type": "code",
   "execution_count": null,
   "metadata": {},
   "outputs": [],
   "source": [
    "image = np.flip(cv2.imread('../img/dog_muffin.jpg'), axis=2)\n",
    "show_image(image)"
   ]
  },
  {
   "cell_type": "code",
   "execution_count": null,
   "metadata": {},
   "outputs": [],
   "source": [
    "# TODO: Your code below\n",
    "%load ../solutions/dog_muffin.py"
   ]
  },
  {
   "cell_type": "markdown",
   "metadata": {},
   "source": [
    "## 3. Geometrical Transformations"
   ]
  },
  {
   "cell_type": "markdown",
   "metadata": {},
   "source": [
    "### 3.1 Translation"
   ]
  },
  {
   "cell_type": "code",
   "execution_count": null,
   "metadata": {},
   "outputs": [],
   "source": [
    "image = np.flip(cv2.imread('../img/coding.png'), axis =2)\n",
    "M = np.float32([[1, 0, 25], [0, 1, 50]])\n",
    "shifted = cv2.warpAffine(image, M, (image.shape[1], image.shape[0]))\n",
    "\n",
    "plt.figure(figsize=(20,10))\n",
    "plt.subplot(1,2,1),plt.imshow(image)\n",
    "plt.title('Original'), plt.xticks([]), plt.yticks([])\n",
    "plt.subplot(1,2,2),plt.imshow(shifted)\n",
    "plt.title('Translated'), plt.xticks([]), plt.yticks([])\n",
    "plt.show()"
   ]
  },
  {
   "cell_type": "markdown",
   "metadata": {},
   "source": [
    "### 3.2 Rotation"
   ]
  },
  {
   "cell_type": "code",
   "execution_count": null,
   "metadata": {},
   "outputs": [],
   "source": [
    "image = np.flip(cv2.imread('../img/coding.png'), axis =2)\n",
    "(h, w) = image.shape[:2]\n",
    "(cX, cY) = (w / 2, h / 2)\n",
    "\n",
    "M = cv2.getRotationMatrix2D((cX, cY), 20, 1.0)\n",
    "rotated = cv2.warpAffine(image, M, (w, h))\n",
    "\n",
    "plt.figure(figsize=(20,10))\n",
    "plt.subplot(1,2,1),plt.imshow(image)\n",
    "plt.title('Original'), plt.xticks([]), plt.yticks([])\n",
    "plt.subplot(1,2,2),plt.imshow(rotated)\n",
    "plt.title('Rotated by 20 Degrees'), plt.xticks([]), plt.yticks([])\n",
    "plt.show()"
   ]
  },
  {
   "cell_type": "markdown",
   "metadata": {},
   "source": [
    "### 3.3 Scaling"
   ]
  },
  {
   "cell_type": "code",
   "execution_count": null,
   "metadata": {},
   "outputs": [],
   "source": [
    "print(cv2.imread('../img/coding.png').shape[:2])\n",
    "show_image(image)"
   ]
  },
  {
   "cell_type": "code",
   "execution_count": null,
   "metadata": {},
   "outputs": [],
   "source": [
    "image = np.flip(cv2.imread('../img/coding.png'), axis =2)\n",
    "height, width = image.shape[:2]\n",
    "resized_width = 1280\n",
    "\n",
    "# calculating ratio of new image to old image\n",
    "ratio = resized_width / width\n",
    "dim = (resized_width, int(height * ratio))\n",
    "\n",
    "resized = cv2.resize(image, dim, interpolation=cv2.INTER_AREA)\n",
    "\n",
    "print(f'Original shape: {image.shape} vs Resized shape {resized.shape}')\n",
    "plt.figure(figsize=(20,10))\n",
    "plt.subplot(1,2,1), plt.imshow(image) \n",
    "plt.title('Original')\n",
    "plt.subplot(1,2,2), plt.imshow(resized)\n",
    "plt.title('Resized')\n",
    "plt.show()"
   ]
  },
  {
   "cell_type": "code",
   "execution_count": null,
   "metadata": {},
   "outputs": [],
   "source": [
    "image = np.flip(cv2.imread('../img/coding.png'), axis =2)\n",
    "height, width = image.shape[:2]\n",
    "resized_height = 688\n",
    "\n",
    "# calculating ratio of new image to old image\n",
    "ratio = resized_height / height\n",
    "dim = (int(width * ratio), resized_height)\n",
    "\n",
    "resized = cv2.resize(image, dim, interpolation=cv2.INTER_AREA)\n",
    "\n",
    "print(f'Original shape: {image.shape} vs Resized shape {resized.shape}')\n",
    "plt.figure(figsize=(20,10))\n",
    "plt.subplot(1,2,1), plt.imshow(image) \n",
    "plt.title('Original')\n",
    "plt.subplot(1,2,2), plt.imshow(resized)\n",
    "plt.title('Resized')\n",
    "plt.show()"
   ]
  },
  {
   "cell_type": "code",
   "execution_count": null,
   "metadata": {},
   "outputs": [],
   "source": [
    "image = np.flip(cv2.imread('../img/coding.png'), axis =2)\n",
    "\n",
    "# Resizing the image - Note, required dimension tuple can only accept integers (pixel locations)\n",
    "# Note: Image shape must be reversed as order of width and height is different since we are flipping the image matrix above\n",
    "resize_times = 0.05\n",
    "dim = tuple(map(lambda x: int(x * resize_times), reversed(image.shape[:2])))\n",
    "\n",
    "# construct the list of interpolation methods\n",
    "methods = [\n",
    "    (\"cv2.INTER_NEAREST\", cv2.INTER_NEAREST),\n",
    "    (\"cv2.INTER_LINEAR\", cv2.INTER_LINEAR),\n",
    "    (\"cv2.INTER_AREA\", cv2.INTER_AREA),\n",
    "    (\"cv2.INTER_CUBIC\", cv2.INTER_CUBIC),\n",
    "    (\"cv2.INTER_LANCZOS4\", cv2.INTER_LANCZOS4)]\n",
    " \n",
    "plt.figure(figsize=(20,10))\n",
    "\n",
    "# loop over the interpolation methods\n",
    "for i, (name, method) in enumerate(methods):\n",
    "    # increase the size of the image by 3x using the current interpolation method\n",
    "    resized = cv2.resize(image, dim, interpolation=method)\n",
    "    plt.subplot(2,3,i+1),plt.imshow(resized)\n",
    "    plt.title(f'Method: {name}, resized shape: {dim}')\n",
    "\n",
    "plt.subplot(2,3,6), plt.imshow(image) \n",
    "plt.title(f'Original - Shape: {image.shape[:2]}')\n",
    "    \n",
    "plt.show()"
   ]
  },
  {
   "cell_type": "markdown",
   "metadata": {},
   "source": [
    "### 3.4 Flipping"
   ]
  },
  {
   "cell_type": "code",
   "execution_count": null,
   "metadata": {},
   "outputs": [],
   "source": [
    "image = np.flip(cv2.imread('../img/coding.png'), axis =2)\n",
    "\n",
    "# flip the image horizontally\n",
    "hflipped = cv2.flip(image, 1)\n",
    " \n",
    "# flip the image vertically\n",
    "vflipped = cv2.flip(image, 0)\n",
    " \n",
    "# flip the image along both axes\n",
    "hvflipped = cv2.flip(image, -1)\n",
    "\n",
    "plt.figure(figsize=(20,10))\n",
    "plt.subplot(2,2,1),plt.imshow(image)\n",
    "plt.title('Original'), plt.xticks([]), plt.yticks([])\n",
    "plt.subplot(2,2,2),plt.imshow(hflipped)\n",
    "plt.title('Flipped Horizontally'), plt.xticks([]), plt.yticks([])\n",
    "plt.subplot(2,2,3),plt.imshow(vflipped)\n",
    "plt.title('Flipped Vertically'), plt.xticks([]), plt.yticks([])\n",
    "plt.subplot(2,2,4),plt.imshow(hvflipped)\n",
    "plt.title('Flipped Horizontally & Vertically'), plt.xticks([]), plt.yticks([])\n",
    "plt.show()"
   ]
  },
  {
   "cell_type": "markdown",
   "metadata": {},
   "source": [
    "### 3.5 Cropping"
   ]
  },
  {
   "cell_type": "code",
   "execution_count": null,
   "metadata": {},
   "outputs": [],
   "source": [
    "image = np.flip(cv2.imread('../img/coding.png'), axis =2)\n",
    "cropped = image[85:250, 85:220]\n",
    "\n",
    "plt.figure(figsize=(20,10))\n",
    "plt.subplot(2,2,1),plt.imshow(image)\n",
    "plt.title('Original'), plt.xticks([]), plt.yticks([])\n",
    "plt.subplot(2,2,2),plt.imshow(cropped)\n",
    "plt.title('Cropped'), plt.xticks([]), plt.yticks([])\n",
    "plt.show()"
   ]
  },
  {
   "cell_type": "markdown",
   "metadata": {},
   "source": [
    "### 3.6 Image Arithmetic"
   ]
  },
  {
   "cell_type": "code",
   "execution_count": null,
   "metadata": {},
   "outputs": [],
   "source": [
    "M = np.ones(image.shape, dtype = \"uint8\") * 100\n",
    "added = cv2.add(image, M)\n",
    "print(f'Original {image[150, 155]}, Added: {added[150, 155]}')\n",
    "\n",
    "plt.figure(figsize=(20,10))\n",
    "plt.subplot(2,2,1),plt.imshow(image)\n",
    "plt.title('Original'), plt.xticks([]), plt.yticks([])\n",
    "plt.subplot(2,2,2),plt.imshow(added)\n",
    "plt.title('Added'), plt.xticks([]), plt.yticks([])\n",
    "plt.show()"
   ]
  },
  {
   "cell_type": "code",
   "execution_count": null,
   "metadata": {},
   "outputs": [],
   "source": [
    "M = np.ones(image.shape, dtype = \"uint8\") * 50\n",
    "subtracted = cv2.subtract(image, M)\n",
    "print(f'Original {image[10, 10]}, Added: {subtracted[10, 10]}')\n",
    "\n",
    "plt.figure(figsize=(20,10))\n",
    "plt.subplot(2,2,1),plt.imshow(image)\n",
    "plt.title('Original'), plt.xticks([]), plt.yticks([])\n",
    "plt.subplot(2,2,2),plt.imshow(subtracted)\n",
    "plt.title('Subtracted'), plt.xticks([]), plt.yticks([])\n",
    "plt.show()"
   ]
  },
  {
   "cell_type": "markdown",
   "metadata": {},
   "source": [
    "### 3.7 Bitwise Operations"
   ]
  },
  {
   "cell_type": "code",
   "execution_count": null,
   "metadata": {},
   "outputs": [],
   "source": [
    "rectangle = np.zeros((300, 300), dtype = \"uint8\")\n",
    "cv2.rectangle(rectangle, (25, 25), (275, 275), 255, -1)\n",
    "\n",
    "circle = np.zeros((300, 300), dtype = \"uint8\")\n",
    "cv2.circle(circle, (150, 150), 150, 255, -1)\n",
    "\n",
    "bitwise_and = cv2.bitwise_and(rectangle, circle)\n",
    "\n",
    "plt.figure(figsize=(20,10))\n",
    "plt.subplot(1,3,1),plt.imshow(rectangle)\n",
    "plt.title('Rectangle'), plt.xticks([]), plt.yticks([])\n",
    "plt.subplot(1,3,2),plt.imshow(circle)\n",
    "plt.title('Circle'), plt.xticks([]), plt.yticks([])\n",
    "plt.subplot(1,3,3),plt.imshow(bitwise_and)\n",
    "plt.title('Bitwise_AND'), plt.xticks([]), plt.yticks([])\n",
    "plt.show()"
   ]
  },
  {
   "cell_type": "code",
   "execution_count": null,
   "metadata": {},
   "outputs": [],
   "source": [
    "bitwise_or = cv2.bitwise_or(rectangle, circle)\n",
    "\n",
    "plt.figure(figsize=(20,10))\n",
    "plt.subplot(1,3,1),plt.imshow(rectangle)\n",
    "plt.title('Rectangle'), plt.xticks([]), plt.yticks([])\n",
    "plt.subplot(1,3,2),plt.imshow(circle)\n",
    "plt.title('Circle'), plt.xticks([]), plt.yticks([])\n",
    "plt.subplot(1,3,3),plt.imshow(bitwise_or)\n",
    "plt.title('Bitwise_OR'), plt.xticks([]), plt.yticks([])\n",
    "plt.show()"
   ]
  },
  {
   "cell_type": "code",
   "execution_count": null,
   "metadata": {},
   "outputs": [],
   "source": [
    "bitwise_xor = cv2.bitwise_xor(rectangle, circle)\n",
    "\n",
    "plt.figure(figsize=(20,10))\n",
    "plt.subplot(1,3,1),plt.imshow(rectangle)\n",
    "plt.title('Rectangle'), plt.xticks([]), plt.yticks([])\n",
    "plt.subplot(1,3,2),plt.imshow(circle)\n",
    "plt.title('Circle'), plt.xticks([]), plt.yticks([])\n",
    "plt.subplot(1,3,3),plt.imshow(bitwise_xor)\n",
    "plt.title('Bitwise_XOR'), plt.xticks([]), plt.yticks([])\n",
    "plt.show()"
   ]
  },
  {
   "cell_type": "code",
   "execution_count": null,
   "metadata": {},
   "outputs": [],
   "source": [
    "bitwise_not = cv2.bitwise_not(circle)\n",
    "\n",
    "plt.figure(figsize=(20,10))\n",
    "plt.subplot(1,3,1),plt.imshow(rectangle)\n",
    "plt.title('Rectangle'), plt.xticks([]), plt.yticks([])\n",
    "plt.subplot(1,3,2),plt.imshow(circle)\n",
    "plt.title('Circle'), plt.xticks([]), plt.yticks([])\n",
    "plt.subplot(1,3,3),plt.imshow(bitwise_not)\n",
    "plt.title('Bitwise_NOT'), plt.xticks([]), plt.yticks([])\n",
    "plt.show()"
   ]
  },
  {
   "cell_type": "markdown",
   "metadata": {},
   "source": [
    "### Homework: Complex Transformations - Apply multiple transformations at once on one image"
   ]
  },
  {
   "cell_type": "code",
   "execution_count": null,
   "metadata": {},
   "outputs": [],
   "source": [
    "# TODO: Your code below"
   ]
  },
  {
   "cell_type": "markdown",
   "metadata": {},
   "source": [
    "### PROJECT: Write a script that would take an image as input and produces 10 random new geometrically transformed images."
   ]
  },
  {
   "cell_type": "code",
   "execution_count": null,
   "metadata": {},
   "outputs": [],
   "source": [
    "# TODO: Your code below"
   ]
  }
 ],
 "metadata": {
  "kernelspec": {
   "display_name": "Python 3",
   "language": "python",
   "name": "python3"
  },
  "language_info": {
   "codemirror_mode": {
    "name": "ipython",
    "version": 3
   },
   "file_extension": ".py",
   "mimetype": "text/x-python",
   "name": "python",
   "nbconvert_exporter": "python",
   "pygments_lexer": "ipython3",
   "version": "3.7.6"
  }
 },
 "nbformat": 4,
 "nbformat_minor": 4
}
